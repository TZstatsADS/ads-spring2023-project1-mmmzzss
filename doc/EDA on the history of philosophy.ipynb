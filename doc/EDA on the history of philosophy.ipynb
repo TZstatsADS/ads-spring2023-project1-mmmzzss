{
 "cells": [
  {
   "cell_type": "code",
   "execution_count": 1,
   "id": "db30f3de",
   "metadata": {},
   "outputs": [],
   "source": [
    "# Load the packages that need to be used\n",
    "import pandas as pd\n",
    "import matplotlib.pyplot as plt\n",
    "import seaborn as sns\n",
    "import nltk\n",
    "from wordcloud import WordCloud\n",
    "import wordcloud\n",
    "import utils\n",
    "from nltk.sentiment import SentimentIntensityAnalyzer\n",
    "from nrclex import NRCLex\n",
    "from platform import platform\n",
    "import re"
   ]
  },
  {
   "cell_type": "code",
   "execution_count": 2,
   "id": "17a428db",
   "metadata": {},
   "outputs": [],
   "source": [
    "# nltk.downloader.download('vader_lexicon')"
   ]
  },
  {
   "cell_type": "code",
   "execution_count": 3,
   "id": "264d2323",
   "metadata": {},
   "outputs": [],
   "source": [
    "# Create a general path for future reproducibility \n",
    "path = \"/Users/oliviaz/Documents/GitHub/ads-spring2023-project1-mmmzzss\"\n",
    "\n",
    "df_raw = pd.read_csv(path + \"/data/philosophy_data.csv\")"
   ]
  },
  {
   "cell_type": "markdown",
   "id": "c2a4e331",
   "metadata": {},
   "source": [
    "# Explortary Data Analysis - Whole Dataset"
   ]
  },
  {
   "cell_type": "markdown",
   "id": "6a7dcad2",
   "metadata": {},
   "source": [
    "### Author: Jingshu Zhang \n",
    "### UNI: jz3552"
   ]
  },
  {
   "cell_type": "markdown",
   "id": "a7dd34e4",
   "metadata": {},
   "source": [
    "##### Data Preprocessing and Checking"
   ]
  },
  {
   "cell_type": "code",
   "execution_count": 4,
   "id": "84e18464",
   "metadata": {},
   "outputs": [
    {
     "name": "stdout",
     "output_type": "stream",
     "text": [
      "<class 'pandas.core.frame.DataFrame'>\n",
      "RangeIndex: 360808 entries, 0 to 360807\n",
      "Data columns (total 11 columns):\n",
      " #   Column                     Non-Null Count   Dtype \n",
      "---  ------                     --------------   ----- \n",
      " 0   title                      360808 non-null  object\n",
      " 1   author                     360808 non-null  object\n",
      " 2   school                     360808 non-null  object\n",
      " 3   sentence_spacy             360808 non-null  object\n",
      " 4   sentence_str               360808 non-null  object\n",
      " 5   original_publication_date  360808 non-null  int64 \n",
      " 6   corpus_edition_date        360808 non-null  int64 \n",
      " 7   sentence_length            360808 non-null  int64 \n",
      " 8   sentence_lowered           360808 non-null  object\n",
      " 9   tokenized_txt              360808 non-null  object\n",
      " 10  lemmatized_str             360808 non-null  object\n",
      "dtypes: int64(3), object(8)\n",
      "memory usage: 30.3+ MB\n"
     ]
    }
   ],
   "source": [
    "df_raw.info()"
   ]
  },
  {
   "cell_type": "markdown",
   "id": "055aa908",
   "metadata": {},
   "source": [
    "##### From the info we have above, the values in all the columns are non-null and therefore make sure that the dataset is complete"
   ]
  },
  {
   "cell_type": "markdown",
   "id": "7d2c54a3",
   "metadata": {},
   "source": [
    "## Frequency of authors and schools - Degree of influence"
   ]
  },
  {
   "cell_type": "markdown",
   "id": "34ecfa80",
   "metadata": {},
   "source": [
    "##### We look at the number of frequency of publication across authors and schools to see the contribution by using matplotlib and seaborn library."
   ]
  },
  {
   "cell_type": "code",
   "execution_count": 1,
   "id": "9cf63e99",
   "metadata": {},
   "outputs": [
    {
     "ename": "NameError",
     "evalue": "name 'plt' is not defined",
     "output_type": "error",
     "traceback": [
      "\u001b[0;31m---------------------------------------------------------------------------\u001b[0m",
      "\u001b[0;31mNameError\u001b[0m                                 Traceback (most recent call last)",
      "Cell \u001b[0;32mIn[1], line 1\u001b[0m\n\u001b[0;32m----> 1\u001b[0m fig,ax \u001b[38;5;241m=\u001b[39m \u001b[43mplt\u001b[49m\u001b[38;5;241m.\u001b[39msubplots()\n\u001b[1;32m      2\u001b[0m fig\u001b[38;5;241m.\u001b[39mset_size_inches(\u001b[38;5;241m10\u001b[39m,\u001b[38;5;241m8\u001b[39m)\n\u001b[1;32m      3\u001b[0m plt\u001b[38;5;241m.\u001b[39mtitle(\u001b[38;5;124m'\u001b[39m\u001b[38;5;124mFreq of Publication by Author\u001b[39m\u001b[38;5;124m'\u001b[39m,fontweight \u001b[38;5;241m=\u001b[39m \u001b[38;5;124m'\u001b[39m\u001b[38;5;124mbold\u001b[39m\u001b[38;5;124m'\u001b[39m)\n",
      "\u001b[0;31mNameError\u001b[0m: name 'plt' is not defined"
     ]
    }
   ],
   "source": [
    "fig,ax = plt.subplots()\n",
    "fig.set_size_inches(10,8)\n",
    "plt.title('Freq of Publication by Author',fontweight = 'bold')\n",
    "ax.set_xlabel('Count', fontsize=12, labelpad=10, fontweight='bold')\n",
    "ax.set_ylabel('Author', fontsize=12, labelpad=10, fontweight='bold')\n",
    "sns.countplot(y = 'author', data = df_raw, order = df_raw['author'], palette = 'blend:#7AB,#EDA')\n",
    "\n",
    "plt.savefig(path + '/figs/Freq_By_Author.jpg');"
   ]
  },
  {
   "cell_type": "code",
   "execution_count": null,
   "id": "991faa05",
   "metadata": {},
   "outputs": [],
   "source": [
    "fig,ax = plt.subplots()\n",
    "fig.set_size_inches(10,8)\n",
    "plt.title('Freq of Publication by School',fontweight = 'bold')\n",
    "ax.set_yticklabels(ax.get_xticklabels(), rotation=45, size = 10)\n",
    "ax.set_xlabel('Count', fontsize=12, labelpad=10, fontweight='bold')\n",
    "ax.set_ylabel('School', fontsize=12, labelpad=10, fontweight='bold')\n",
    "sns.countplot(y = 'school', data = df_raw, order = df_raw['school'].value_counts().index, palette = 'blend:#7AB,#EDA')\n",
    "\n",
    "plt.savefig(path + '/figs/Freq_By_School.jpg');"
   ]
  },
  {
   "cell_type": "markdown",
   "id": "6ab0b94e",
   "metadata": {},
   "source": [
    "##### The chart indicates that the work of Aristotle, Plato, and Hegel is significantly greater than that of other authors. "
   ]
  },
  {
   "cell_type": "markdown",
   "id": "9ff63ce9",
   "metadata": {},
   "source": [
    "## Average length of sentences across Authors and Schools - Writing style"
   ]
  },
  {
   "cell_type": "markdown",
   "id": "6fcbaf16",
   "metadata": {},
   "source": [
    "##### The average length of sentences is visualized to find the different writing style - verbose or concise"
   ]
  },
  {
   "cell_type": "code",
   "execution_count": null,
   "id": "c8cbd150",
   "metadata": {},
   "outputs": [],
   "source": [
    "df_senten_avglength = df_raw.groupby(['author'])['sentence_length'].mean().reset_index()\n",
    "df_senten_avglength.head(10)"
   ]
  },
  {
   "cell_type": "code",
   "execution_count": null,
   "id": "0457e70b",
   "metadata": {},
   "outputs": [],
   "source": [
    "fig,ax = plt.subplots()\n",
    "fig.set_size_inches(10,8)\n",
    "sns.barplot(y = 'author', x = 'sentence_length', data = df_senten_avglength, order= df_senten_avglength.sort_values('sentence_length', ascending=False).author,palette = 'blend:#7AB,#EDA')\n",
    "ax.set_xticklabels(ax.get_xticklabels(), rotation=90, size = 10)\n",
    "ax.set_xlabel('Author', fontsize=12, labelpad=10, fontweight='bold')\n",
    "ax.set_ylabel('sentence_avglength', fontsize=12, labelpad=10, fontweight='bold')\n",
    "plt.title('Average sentence length across Authors', fontweight = 'bold')\n",
    "\n",
    "plt.savefig(path + '/figs/Avgsentlen_Author.jpg');"
   ]
  },
  {
   "cell_type": "code",
   "execution_count": null,
   "id": "62a05c0e",
   "metadata": {},
   "outputs": [],
   "source": [
    "avgsentlen_school = df_raw.groupby(['school'])['sentence_length'].mean().reset_index()\n",
    "avgsentlen_school.head(10)"
   ]
  },
  {
   "cell_type": "code",
   "execution_count": null,
   "id": "84a49b4c",
   "metadata": {},
   "outputs": [],
   "source": [
    "fig,ax = plt.subplots()\n",
    "fig.set_size_inches(10,8)\n",
    "sns.barplot(y = 'school', x = 'sentence_length', data = avgsentlen_school, order= avgsentlen_school.sort_values('sentence_length', ascending=False).school,palette = 'blend:#7AB,#EDA')\n",
    "ax.set_xticklabels(ax.get_xticklabels(), rotation=45, size = 8)\n",
    "ax.set_xlabel('School', fontsize=12, labelpad=10, fontweight='bold')\n",
    "ax.set_ylabel('sentence_avglength', fontsize=12, labelpad=10, fontweight='bold')\n",
    "plt.title('Average sentence length across Schools', fontweight = 'bold')\n",
    "\n",
    "plt.savefig(path + '/figs/Avgsentlen_Schools.jpg');"
   ]
  },
  {
   "cell_type": "markdown",
   "id": "394f0aa7",
   "metadata": {},
   "source": [
    "## Compound Sentiment Score by School over time"
   ]
  },
  {
   "cell_type": "markdown",
   "id": "d0e8bfd9",
   "metadata": {},
   "source": [
    "##### Only looking at some basic characteristics of the author and school might not be enough to deeply understand the feminism, so I decided to explore the compound store in different schools."
   ]
  },
  {
   "cell_type": "markdown",
   "id": "89dd9b96",
   "metadata": {},
   "source": [
    "##### This code performs sentiment analysis on the sentences in the 'sentence_str' column of the 'df_raw' dataframe using the SentimentIntensityAnalyzer from the nltk package. The sentiment analysis is performed by calculating the negative, neutral, positive, and a compound score which ranges from -1  to 1. The compound score is a metric that represents the overall sentiment of the sentence\n",
    "##### Additionally, the 'sentence_spacy','corpus_edition_date','sentiment_scores' , and 'sentiment_lowered'columns are also dropped as they are no longer in use."
   ]
  },
  {
   "cell_type": "code",
   "execution_count": null,
   "id": "4e59abac",
   "metadata": {},
   "outputs": [],
   "source": [
    "sia = SentimentIntensityAnalyzer()\n",
    "\n",
    "# Create a new column to store the sentiment scores\n",
    "df_raw['sentiment_scores'] = df_raw['sentence_str'].apply(lambda x: sia.polarity_scores(x))\n",
    "\n",
    "# Extract the values from the sentiment_scores dictionary and assign them to new columns\n",
    "# Compound score ranges from -1 (neg) through 0 (neu) to 1 (pos) and we only keep the compound_score col for future analysis\n",
    "df_raw['compound_score'] = df_raw['sentiment_scores'].apply(lambda x: x['compound'])\n",
    "\n",
    "# Delete irrelavant columns\n",
    "df_raw.drop(columns=['sentence_spacy','corpus_edition_date','sentiment_scores', 'sentence_lowered'], inplace=True)\n",
    "\n",
    "# Rename 'original_publication_date' column to 'year' for easy operation\n",
    "df_raw.rename(columns = {'original_publication_date':'year'}, inplace = True)\n",
    "\n",
    "df_raw.head(10)"
   ]
  },
  {
   "cell_type": "code",
   "execution_count": null,
   "id": "8929aa36",
   "metadata": {},
   "outputs": [],
   "source": [
    "fig, axes = plt.subplots(3, 3, figsize=(18, 18))\n",
    "\n",
    "axes[0,0].set_title('Analytic');\n",
    "axes[0,1].set_title('Continental');\n",
    "axes[0,2].set_title('Empiricism');\n",
    "axes[1,0].set_title('Phenomenology');\n",
    "axes[1,1].set_title('Stoicism');\n",
    "axes[1,2].set_title('Communism');\n",
    "axes[2,0].set_title('Feminism');\n",
    "axes[2,1].set_title('Capitalism');\n",
    "axes[2,2].set_title('Rationalism');\n",
    "\n",
    "\n",
    "sns.lineplot(ax = axes[0,0], x='year', y= 'compound_score', data = df_raw[df_raw['school'] == 'analytic']);\n",
    "sns.lineplot(ax = axes[0,1], x='year', y= 'compound_score', data = df_raw[df_raw['school'] == 'continental']);\n",
    "sns.lineplot(ax = axes[0,2], x='year', y= 'compound_score', data = df_raw[df_raw['school'] == 'empiricism']);\n",
    "sns.lineplot(ax = axes[1,0], x='year', y= 'compound_score', data = df_raw[df_raw['school'] == 'phenomenology']);\n",
    "sns.lineplot(ax = axes[1,1], x='year', y= 'compound_score', data = df_raw[df_raw['school'] == 'stoicism']);\n",
    "sns.lineplot(ax = axes[1,2], x='year', y= 'compound_score', data = df_raw[df_raw['school'] == 'communism']);\n",
    "sns.lineplot(ax = axes[2,0], x='year', y= 'compound_score', data = df_raw[df_raw['school'] == 'feminism']);\n",
    "sns.lineplot(ax = axes[2,1], x='year', y= 'compound_score', data = df_raw[df_raw['school'] == 'capitalism']);\n",
    "sns.lineplot(ax = axes[2,2], x='year', y= 'compound_score', data = df_raw[df_raw['school'] == 'rationalism']);\n",
    "\n",
    "plt.savefig(path + '/figs/Sentiment_score_overtime.jpg');"
   ]
  },
  {
   "cell_type": "markdown",
   "id": "6256b12c",
   "metadata": {},
   "source": [
    "##### I noticed that Feminism is the only one whose compound score is still below -0.05 and regard as negative up until the most recent publication. It attracts me to further examine how the author express and what they cover in their publications."
   ]
  },
  {
   "cell_type": "markdown",
   "id": "188f8ddc",
   "metadata": {},
   "source": [
    "# Exploratory Data Analysis - School of Feminism"
   ]
  },
  {
   "cell_type": "markdown",
   "id": "26ee56e0",
   "metadata": {},
   "source": [
    "## Contribuition of authors in Feminism"
   ]
  },
  {
   "cell_type": "markdown",
   "id": "45d0de35",
   "metadata": {},
   "source": [
    "##### First look at who are the contributors to Feminism by filtering the dataset with school being feminism"
   ]
  },
  {
   "cell_type": "code",
   "execution_count": null,
   "id": "d7a8174d",
   "metadata": {},
   "outputs": [],
   "source": [
    "df_fem = df_raw[df_raw['school'] == 'feminism']\n",
    "df_fem[df_fem.school=='feminism'][['year','author','title']].drop_duplicates()"
   ]
  },
  {
   "cell_type": "code",
   "execution_count": null,
   "id": "0400f1e1",
   "metadata": {},
   "outputs": [],
   "source": [
    "sns.barplot(y = 'author', x = 'count', data = df_fem.groupby(['author']).size().to_frame('count').reset_index())\n",
    "ax.set_xlabel('Author', fontsize=12, labelpad=10, fontweight='bold')\n",
    "ax.set_ylabel('Count', fontsize=12, labelpad=10, fontweight='bold')\n",
    "plt.title('Contribution across Author', fontweight = 'bold')\n",
    "\n",
    "plt.savefig(path + '/figs/Fem_contribution_Author.jpg');"
   ]
  },
  {
   "cell_type": "markdown",
   "id": "01ad658e",
   "metadata": {},
   "source": [
    "## Sentiment Analysis across Authors"
   ]
  },
  {
   "cell_type": "code",
   "execution_count": null,
   "id": "c12478ab",
   "metadata": {},
   "outputs": [],
   "source": [
    "# Create a new column to store the categorical result by divding the compound score\n",
    "senti_ana = []\n",
    "\n",
    "for score in df_fem['compound_score']:\n",
    "    if score >= 0.05:\n",
    "        senti_ana.append('positive')\n",
    "    elif score <= -0.05 :\n",
    "        senti_ana.append('negative')\n",
    "    else:\n",
    "        senti_ana.append('neutral')\n",
    "\n",
    "df_fem['senti_ana'] = senti_ana"
   ]
  },
  {
   "cell_type": "markdown",
   "id": "8d953187",
   "metadata": {},
   "source": [
    "##### Plot the compound sentiment score over time with different authors"
   ]
  },
  {
   "cell_type": "code",
   "execution_count": null,
   "id": "a41e3fb6",
   "metadata": {},
   "outputs": [],
   "source": [
    "sns.barplot(x = 'author', y = 'count', hue = 'senti_ana', data = df_fem.groupby(['author', 'senti_ana']).size().to_frame('count').reset_index())\n",
    "ax.set_xlabel('Author', fontsize=12, labelpad=10, fontweight='bold')\n",
    "ax.set_ylabel('Count', fontsize=12, labelpad=10, fontweight='bold')\n",
    "plt.title('Compound sentiment score across Author', fontweight = 'bold')\n",
    "\n",
    "plt.savefig(path + '/figs/Fem_sentiana_Author.jpg');"
   ]
  },
  {
   "cell_type": "markdown",
   "id": "3c5e98ac",
   "metadata": {},
   "source": [
    "##### From this plot, it can be seen that the contribution to feminism of Beauvoir is much higher than that of the other two authors. Both Beauvoir and Wollstonecraft expressed positive sentiments more than negative sentiment. For all of these three authors, neutral sentiments were the least expressed."
   ]
  },
  {
   "cell_type": "markdown",
   "id": "faabce2a",
   "metadata": {},
   "source": [
    "## Emotions Analysis across Author"
   ]
  },
  {
   "cell_type": "code",
   "execution_count": null,
   "id": "eeee32b7",
   "metadata": {},
   "outputs": [],
   "source": [
    "# nltk.download('punkt')"
   ]
  },
  {
   "cell_type": "code",
   "execution_count": null,
   "id": "fe17cbaf",
   "metadata": {},
   "outputs": [],
   "source": [
    "# Using NRCLex to get emotions of each sentence in the df_fem\n",
    "# Create an empty list to store the emotion labels\n",
    "emotion_labels = []\n",
    "\n",
    "# Go Iterate through the rows of the dataframe df_fem\n",
    "for i, row in df_fem.iterrows():\n",
    "    \n",
    "  # Get the lemmatized text\n",
    "  lemmatized_text = row['lemmatized_str']\n",
    "\n",
    "  # Create an NRCLex object for the text\n",
    "  emotion = NRCLex(lemmatized_text)\n",
    "\n",
    "  # Get the first emotion for the text\n",
    "  first_emotion = emotion.top_emotions\n",
    "\n",
    "  # Append the top emotion label to the list\n",
    "  emotion_labels.append(first_emotion)\n"
   ]
  },
  {
   "cell_type": "code",
   "execution_count": null,
   "id": "4aa96086",
   "metadata": {},
   "outputs": [],
   "source": [
    "# Create a new list to store most related emotions\n",
    "emotions = []\n",
    "\n",
    "for emotion in emotion_labels:\n",
    "  # Extract emotion from the emotion tuple\n",
    "  main_emotion = emotion[0][0]\n",
    "\n",
    "  # Append emotion to the list\n",
    "  emotions.append(main_emotion)\n",
    "  \n",
    "df_fem['emotions'] = emotions"
   ]
  },
  {
   "cell_type": "markdown",
   "id": "fe6f07a8",
   "metadata": {},
   "source": [
    "##### Visualize the emotions across author"
   ]
  },
  {
   "cell_type": "code",
   "execution_count": null,
   "id": "077444ca",
   "metadata": {},
   "outputs": [],
   "source": [
    "sns.barplot(x = 'author', y = 'count', hue = 'emotions', data = df_fem.groupby(['author', 'emotions']).size().to_frame('count').reset_index())\n",
    "ax.set_xlabel('Author', fontsize=12, labelpad=10, fontweight='bold')\n",
    "ax.set_ylabel('Count', fontsize=12, labelpad=10, fontweight='bold')\n",
    "plt.title('Emotions Analysis across Author', fontweight = 'bold')\n",
    "\n",
    "plt.savefig(path + '/figs/Fem_emotions_Author.jpg');"
   ]
  },
  {
   "cell_type": "markdown",
   "id": "1c9e63ef",
   "metadata": {},
   "source": [
    "##### This plot shows that fear and trust are the most frequent emotion expressed by all of the three authors except for the sentiments of positive and negative. "
   ]
  },
  {
   "cell_type": "markdown",
   "id": "588f9eb6",
   "metadata": {},
   "source": [
    "## WordCloud of 3 authors"
   ]
  },
  {
   "cell_type": "code",
   "execution_count": null,
   "id": "2ebee65b",
   "metadata": {},
   "outputs": [],
   "source": [
    "nltk.download('stopwords')\n",
    "from nltk.corpus import stopwords\n",
    "stop_words = set(stopwords.words('english'))"
   ]
  },
  {
   "cell_type": "code",
   "execution_count": null,
   "id": "eba4023c",
   "metadata": {},
   "outputs": [],
   "source": [
    "# write function to find the top 10 most frequent word across author\n",
    "# Flatten -- Join all string except for the stop words-- count the words\n",
    "def processStrings(token_string):\n",
    "    return re.sub(r'[\\'\\[\\]]', '', token_string).split(', ')\n",
    "\n",
    "def processTokens(token_text):\n",
    "    flatten_df = token_text.to_numpy().flatten()\n",
    "    joined_df = ', '.join(flatten_df)\n",
    "    \n",
    "    filtered_sentence = []\n",
    "    word_tokens = processStrings(joined_df)\n",
    "    \n",
    "    for w in word_tokens:\n",
    "        if w not in stop_words:\n",
    "            filtered_sentence.append(w)\n",
    "    return filtered_sentence\n",
    "\n",
    "def getWordCounts(filtered_sentence):\n",
    "    return pd.Series(filtered_sentence).value_counts()"
   ]
  },
  {
   "cell_type": "markdown",
   "id": "3f3f3fc3",
   "metadata": {},
   "source": [
    "### WordCloud -- Beauvoir"
   ]
  },
  {
   "cell_type": "markdown",
   "id": "16d559e0",
   "metadata": {},
   "source": [
    "##### The same process repeats three times to plot wordcloud for three authors"
   ]
  },
  {
   "cell_type": "code",
   "execution_count": null,
   "id": "02010b10",
   "metadata": {},
   "outputs": [],
   "source": [
    "# Wordcloud for Beauvoir\n",
    "# create an empty string to store all the sentences\n",
    "all_sentences = ' '.join(df_fem[df_fem['author'] == 'Beauvoir']['sentence_str'])\n",
    "\n",
    "\n",
    "wordcloud = WordCloud(max_font_size=80, width=600, height=400, background_color = 'white').generate(all_sentences)\n",
    "\n",
    "# plot the wordcloud\n",
    "plt.figure(figsize=(12,10))\n",
    "plt.imshow(wordcloud, interpolation='bilinear')\n",
    "plt.axis(\"off\")\n",
    "plt.title('WordCloud for Beauvoir', fontsize=14, fontweight='bold')\n",
    "plt.savefig(path + \"/figs/Wordcloud_Beauvoir.png\")\n",
    "plt.show()\n"
   ]
  },
  {
   "cell_type": "code",
   "execution_count": null,
   "id": "1db39d90",
   "metadata": {
    "scrolled": true
   },
   "outputs": [],
   "source": [
    "processed_Bea = processTokens(df_fem[df_fem.author=='Beauvoir'].tokenized_txt)\n",
    "Beauvoir_wcounts = getWordCounts(processed_Bea)\n",
    "Bead_df = Beauvoir_wcounts.to_frame().reset_index()\n",
    "Bead_df.columns=['Word','Frequency']\n",
    "Bead_df[0:10]"
   ]
  },
  {
   "cell_type": "code",
   "execution_count": null,
   "id": "13c3b715",
   "metadata": {},
   "outputs": [],
   "source": [
    "sns.barplot(x = 'Frequency', y = 'Word', data = Bead_df[0:10])\n",
    "ax.set_xlabel('Frequency', fontsize=12, labelpad=10, fontweight='bold')\n",
    "ax.set_ylabel('Word', fontsize=12, labelpad=10, fontweight='bold')\n",
    "plt.title('Top 10 Words for Beauvoir', fontweight = 'bold')\n",
    "\n",
    "plt.savefig(path + '/figs/Top10_Beauvoir.jpg');"
   ]
  },
  {
   "cell_type": "markdown",
   "id": "6db364e0",
   "metadata": {},
   "source": [
    "### WordCloud for Davis"
   ]
  },
  {
   "cell_type": "code",
   "execution_count": null,
   "id": "171c06c8",
   "metadata": {},
   "outputs": [],
   "source": [
    "# Wordcloud for Davis\n",
    "# create an empty string to store all the sentences\n",
    "all_sentences = ' '.join(df_fem[df_fem['author'] == 'Davis']['sentence_str'])\n",
    "\n",
    "wordcloud = WordCloud(max_font_size=80, width=600, height=400, background_color = 'white').generate(all_sentences)\n",
    "\n",
    "# plot the wordcloud\n",
    "plt.figure(figsize=(12,10))\n",
    "plt.imshow(wordcloud, interpolation='bilinear')\n",
    "plt.axis(\"off\")\n",
    "plt.title('WordCloud for Davis', fontsize=14, fontweight='bold')\n",
    "plt.savefig(path + \"/figs/Wordcloud_Davis.png\")\n",
    "plt.show()"
   ]
  },
  {
   "cell_type": "code",
   "execution_count": null,
   "id": "0a26ce76",
   "metadata": {},
   "outputs": [],
   "source": [
    "processed_Dav = processTokens(df_fem[df_fem.author=='Davis'].tokenized_txt)\n",
    "Davis_wcounts = getWordCounts(processed_Dav)\n",
    "Dav_df = Davis_wcounts.to_frame().reset_index()\n",
    "Dav_df.columns=['Word','Frequency']\n",
    "Dav_df[0:10]"
   ]
  },
  {
   "cell_type": "code",
   "execution_count": null,
   "id": "05ed6a32",
   "metadata": {},
   "outputs": [],
   "source": [
    "sns.barplot(x = 'Frequency', y = 'Word', data = Dav_df[0:10])\n",
    "ax.set_xlabel('Frequency', fontsize=12, labelpad=10, fontweight='bold')\n",
    "ax.set_ylabel('Word', fontsize=12, labelpad=10, fontweight='bold')\n",
    "plt.title('Top 10 Words for Davis', fontweight = 'bold')\n",
    "\n",
    "plt.savefig(path + '/figs/Top10_Davis.jpg');"
   ]
  },
  {
   "cell_type": "markdown",
   "id": "116cdc53",
   "metadata": {},
   "source": [
    "### WordCloud for Wollstonecraft"
   ]
  },
  {
   "cell_type": "code",
   "execution_count": null,
   "id": "521ace1b",
   "metadata": {},
   "outputs": [],
   "source": [
    "# Wordcloud for Wollstonecraft\n",
    "# create an empty string to store all the sentences\n",
    "all_sentences = ' '.join(df_fem[df_fem['author'] == 'Wollstonecraft']['sentence_str'])\n",
    "\n",
    "# create a wordcloud object\n",
    "wordcloud = WordCloud(max_font_size=80, width=600, height=400, background_color = 'white').generate(all_sentences)\n",
    "\n",
    "# plot the wordcloud\n",
    "plt.figure(figsize=(12,10))\n",
    "plt.imshow(wordcloud, interpolation='bilinear')\n",
    "plt.axis(\"off\")\n",
    "plt.title('WordCloud for Wollstonecraft', fontsize=14, fontweight='bold')\n",
    "plt.savefig(path + \"/figs/Wordcloud_Woll.png\")\n",
    "plt.show()"
   ]
  },
  {
   "cell_type": "code",
   "execution_count": null,
   "id": "7582cd16",
   "metadata": {},
   "outputs": [],
   "source": [
    "processed_Woll = processTokens(df_fem[df_fem.author=='Wollstonecraft'].tokenized_txt)\n",
    "Woll_wcounts = getWordCounts(processed_Woll)\n",
    "woll_df = Woll_wcounts.to_frame().reset_index()\n",
    "woll_df.columns=['Word','Frequency']\n",
    "woll_df[0:10]"
   ]
  },
  {
   "cell_type": "code",
   "execution_count": null,
   "id": "d360000b",
   "metadata": {},
   "outputs": [],
   "source": [
    "sns.barplot(x = 'Frequency', y = 'Word', data = woll_df[0:10])\n",
    "ax.set_xlabel('Frequency', fontsize=12, labelpad=10, fontweight='bold')\n",
    "ax.set_ylabel('Word', fontsize=12, labelpad=10, fontweight='bold')\n",
    "plt.title('Top 10 Words for Wollstonecraft', fontweight = 'bold')\n",
    "\n",
    "plt.savefig(path + '/figs/Top10_Woll.jpg');"
   ]
  },
  {
   "cell_type": "markdown",
   "id": "838b0a4d",
   "metadata": {},
   "source": [
    "##### Look at the top 10 word for three authors at the same time to see the similarity and difference"
   ]
  },
  {
   "cell_type": "code",
   "execution_count": null,
   "id": "665cbb41",
   "metadata": {},
   "outputs": [],
   "source": [
    "fig, axes = plt.subplots(1,3, figsize=(15, 10))\n",
    "\n",
    "axes[0].set_title('Beauvoir');\n",
    "axes[1].set_title('Davis');\n",
    "axes[2].set_title('Wollstonecraft');\n",
    "\n",
    "\n",
    "sns.barplot(ax = axes[0], x='Frequency', y= 'Word', data = Bead_df[0:10]);\n",
    "sns.barplot(ax = axes[1], x='Frequency', y= 'Word', data = Dav_df[0:10]);\n",
    "sns.barplot(ax = axes[2], x='Frequency', y= 'Word', data = woll_df[0:10]);\n",
    "\n",
    "\n",
    "plt.savefig(path + '/figs/Top10_3author.jpg');"
   ]
  },
  {
   "cell_type": "markdown",
   "id": "810d59e1",
   "metadata": {},
   "source": [
    "##### Comparing the word frequency across author, it is common for them to use gender-related word like woman, man and their plural form. But the topic differentiates since they might focus on areas like racial problem, the gender relations in the marriage, the role of being a wife and husband in the whole society. It is the reason they express the sentiment and emotions in a different way since some topic is definitely more complicated to solve and has a long way to go."
   ]
  },
  {
   "cell_type": "markdown",
   "id": "eb4049f5",
   "metadata": {},
   "source": [
    "# Future work"
   ]
  },
  {
   "cell_type": "markdown",
   "id": "4dc17a22",
   "metadata": {},
   "source": [
    "Some futher analysis has not been included such as topic modeling and TF-IDF.  Also, there is some limitation for sentiment analysis if only focusing on the single word. Clustering among emotions is supposed to be explored in the future"
   ]
  }
 ],
 "metadata": {
  "kernelspec": {
   "display_name": "python3.9",
   "language": "python",
   "name": "python3.9"
  },
  "language_info": {
   "codemirror_mode": {
    "name": "ipython",
    "version": 3
   },
   "file_extension": ".py",
   "mimetype": "text/x-python",
   "name": "python",
   "nbconvert_exporter": "python",
   "pygments_lexer": "ipython3",
   "version": "3.9.16"
  },
  "toc": {
   "base_numbering": 1,
   "nav_menu": {},
   "number_sections": true,
   "sideBar": true,
   "skip_h1_title": false,
   "title_cell": "Table of Contents",
   "title_sidebar": "Contents",
   "toc_cell": false,
   "toc_position": {},
   "toc_section_display": true,
   "toc_window_display": false
  }
 },
 "nbformat": 4,
 "nbformat_minor": 5
}
